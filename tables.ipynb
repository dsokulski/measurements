{
 "cells": [
  {
   "cell_type": "markdown",
   "metadata": {},
   "source": [
    "Consider production of rectangular tables with length $ℓ = 1.4$ m and width $w = 1.0$ m.\n",
    "Tolerance of production process (standard deviation) is $σ_ℓ =2$ mm for the table length\n",
    "and $σ_w =1$ mm for the table width.  \n",
    "[![Open In Colab](https://colab.research.google.com/assets/colab-badge.svg)](https://colab.research.google.com/github/dsokulski/measurements/blob/main/tables.ipynb)"
   ]
  },
  {
   "cell_type": "markdown",
   "metadata": {},
   "source": [
    "What is the expected variation (standard deviation) of the surface of the table and total side length,\n",
    "assuming table length and width are independent variables?"
   ]
  },
  {
   "cell_type": "markdown",
   "metadata": {},
   "source": [
    "Assuming $ℓ$ and $w$ are independent, covariance matrix of $\\mathbf{X}$ variables ($ℓ$ and $w$) is:  \n",
    "\\begin{equation*}\n",
    "    \\mathbb{C}_\\mathbf{X} = \\left( \\begin{array}{cc} σ_ℓ^2 & 0 \\\\\n",
    "0 & σ_w^2 \\end{array} \\right)\n",
    "\\end{equation*}"
   ]
  },
  {
   "cell_type": "markdown",
   "metadata": {},
   "source": [
    "$\\mathbf{Y}$ variables are surface $s$ and total length $t$:\n",
    "\\begin{equation*}\n",
    "    s = ℓ \\cdot w, \\qquad t = 2 (ℓ + w)\n",
    "\\end{equation*}"
   ]
  },
  {
   "cell_type": "markdown",
   "metadata": {},
   "source": [
    "Matrix of partial derivatives $\\mathbf{A}$:\n",
    "\\begin{equation*}\n",
    "    \\mathbf{A} = \\left( \\frac{\\partial y_i}{\\partial x_i}\\right) = \\left( \\begin{array}{cc} ℓ & w \\\\\n",
    "2 & 2 \\end{array} \\right) \n",
    "\\end{equation*}"
   ]
  },
  {
   "cell_type": "markdown",
   "metadata": {},
   "source": [
    "Covariance matrix of $\\mathbf{Y}$ variables:\n",
    "\\begin{equation*}\n",
    "    \\mathbb{C}_\\mathbf{Y} = \\mathbf{A} \\mathbb{C}_\\mathbf{X} \\mathbf{A}^T = \\left( \\begin{array}{cc} ℓ & w \\\\\n",
    "2 & 2 \\end{array} \\right) \\left( \\begin{array}{cc} σ_ℓ^2 & 0 \\\\\n",
    "0 & σ_w^2 \\end{array} \\right) \\left( \\begin{array}{cc} ℓ & 2 \\\\\n",
    "w & 2 \\end{array} \\right) = \\left( \\begin{array}{cc} ℓ\\sigma_ℓ^2 & w\\sigma_w^2 \\\\\n",
    "2\\sigma_ℓ^2 & 2\\sigma_w^2 \\end{array} \\right) \\left( \\begin{array}{cc} ℓ & 2 \\\\\n",
    "w & 2 \\end{array} \\right) = \n",
    "\\end{equation*}\n",
    "\n",
    "\\begin{equation*}\n",
    "    = \\left( \\begin{array}{cc} ℓ^2\\sigma_ℓ^2 + w^2\\sigma_w^2 & 2ℓ\\sigma_ℓ^2 + 2w\\sigma_w^2 \\\\\n",
    "2ℓ\\sigma_ℓ^2 + 2w\\sigma_w^2 & 4\\sigma_ℓ^2 + 4\\sigma_w^2 \\end{array} \\right)\n",
    "\\end{equation*}"
   ]
  },
  {
   "cell_type": "markdown",
   "metadata": {},
   "source": [
    "Variance of $\\mathbf{Y}$ variables and their corelation:  \n",
    "\\begin{equation*}\n",
    "    \\sigma_s = \\sqrt{ℓ^2\\sigma_ℓ^2 + w^2\\sigma_w^2} = 29.73 \\; \\mathrm{cm}^2,\n",
    "\\end{equation*}\n",
    "\n",
    "\\begin{equation*}\n",
    "    \\sigma_t = 2\\sqrt{\\sigma_ℓ^2 + \\sigma_w} = 4.47 \\; \\mathrm{mm},\n",
    "\\end{equation*}\n",
    "\n",
    "\\begin{equation*}\n",
    "    \\rho = \\frac{2ℓ\\sigma_ℓ^2 + 2w\\sigma_w^2}{\\sigma_s \\sigma_t} = 0.99\n",
    "\\end{equation*}"
   ]
  },
  {
   "cell_type": "code",
   "execution_count": 2,
   "metadata": {},
   "outputs": [],
   "source": [
    "import numpy as np\n",
    "import matplotlib.pyplot as plt"
   ]
  },
  {
   "cell_type": "code",
   "execution_count": 31,
   "metadata": {},
   "outputs": [
    {
     "name": "stdout",
     "output_type": "stream",
     "text": [
      "Variance of area = 24.41 cm^2\n",
      "Variance of total length = 4.47 mm\n",
      "Correlation coefficient = 0.99\n"
     ]
    }
   ],
   "source": [
    "l = np.random.normal(140, 0.2, 1000000)\n",
    "w = np.random.normal(100, 0.1, 1000000)\n",
    "\n",
    "s = l * w\n",
    "t = 2 * (l + w)\n",
    "\n",
    "print(\"Variance of area = {:.2f} cm^2\".format(s.std()))\n",
    "print(\"Variance of total length = {:.2f} mm\".format(t.std()*10))\n",
    "print(\"Correlation coefficient = {:.2f}\".format(np.corrcoef(s, t)[0, 1]))"
   ]
  }
 ],
 "metadata": {
  "kernelspec": {
   "display_name": "Python 3",
   "language": "python",
   "name": "python3"
  },
  "language_info": {
   "codemirror_mode": {
    "name": "ipython",
    "version": 3
   },
   "file_extension": ".py",
   "mimetype": "text/x-python",
   "name": "python",
   "nbconvert_exporter": "python",
   "pygments_lexer": "ipython3",
   "version": "3.10.8"
  }
 },
 "nbformat": 4,
 "nbformat_minor": 2
}
